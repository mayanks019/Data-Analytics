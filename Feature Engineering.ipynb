{
 "cells": [
  {
   "cell_type": "markdown",
   "id": "6e5692a3-c612-4268-99ce-a0069876ae9d",
   "metadata": {},
   "source": [
    "## Features Engineering"
   ]
  },
  {
   "cell_type": "markdown",
   "id": "c47c9976-9521-44b2-b1e3-c4f37208a0f3",
   "metadata": {},
   "source": [
    "1. What is a parameter?\n",
    "\n",
    "       - A parameter is an internal variable in a model whose value is learned from the training data. For example, in linear regression, the slope and intercept are parameters. These values are adjusted during model training to minimize the loss.\n",
    "\n",
    "2. What is correlation?\n",
    "\n",
    "       - Correlation is a statistical measure that expresses the extent to which two variables are linearly related. A correlation value ranges from -1 to +1:\n",
    "        \n",
    "        +1: Strong positive correlation\n",
    "        \n",
    "        0: No correlation\n",
    "        \n",
    "        -1: Strong negative correlation\n",
    "    \n",
    "3. What does negative correlation mean?\n",
    "\n",
    "   \n",
    "   - A negative correlation indicates that as one variable increases, the other decreases. For example, as temperature rises, sales of heaters go down.\n",
    "\n",
    "4. Define Machine Learning. What are the main components in Machine Learning?\n",
    "\n",
    "       -Machine Learning (ML) is a subset of Artificial Intelligence that enables computers to learn from data and make predictions or decisions without being explicitly programmed.\n",
    "    \n",
    "    Main components:\n",
    "    \n",
    "    Data\n",
    "    \n",
    "    Model\n",
    "    \n",
    "    Loss function\n",
    "    \n",
    "    Optimization algorithm\n",
    "    \n",
    "    Evaluation metrics\n",
    "\n",
    "5. How does loss value help in determining whether the model is good or not?\n",
    "\n",
    "       - The loss value measures how far the model's predictions are from the actual values. A lower loss indicates better model performance. It guides the optimization process during training.\n",
    "\n",
    "6. What are continuous and categorical variables?\n",
    "\n",
    "       - Continuous variables can take any numerical value within a range (e.g., height, weight, age).\n",
    "    \n",
    "    Categorical variables represent categories or groups (e.g., gender, color, product type).\n",
    "\n",
    "7. How do we handle categorical variables in Machine Learning? What are the common techniques?\n",
    "   \n",
    "       - We handle categorical variables using:\n",
    "    \n",
    "    Label Encoding: Converts categories into numbers.\n",
    "    \n",
    "    One-Hot Encoding: Creates binary columns for each category.\n",
    "    \n",
    "    Ordinal Encoding: Applies when categories have an order.\n",
    "\n",
    "8. What do you mean by training and testing a dataset?\n",
    "       - Training data is used to teach the model.\n",
    "    \n",
    "    Testing data is used to evaluate how well the model performs on unseen data.\n",
    "\n",
    "9. What is sklearn.preprocessing?\n",
    "\n",
    "        - sklearn.preprocessing is a module in Scikit-learn used for preprocessing data such as scaling, encoding, normalization, etc., to prepare it for model training.\n",
    "\n",
    "10. What is a Test set?\n",
    "\n",
    "        - A Test set is a portion of the dataset used to evaluate the final performance of a trained model. It helps check how well the model generalizes to new, unseen data.\n",
    "\n"
   ]
  },
  {
   "cell_type": "markdown",
   "id": "571ea2c1-0fee-4f1e-ba2f-9fe93d60d003",
   "metadata": {},
   "source": [
    "11. How do we split data for model fitting (training and testing) in Python?\n",
    "    - We use the train_test_split() function from sklearn.model_selection:"
   ]
  },
  {
   "cell_type": "code",
   "execution_count": 2,
   "id": "ff779746-1a11-4edb-aac3-6e61183912c7",
   "metadata": {},
   "outputs": [
    {
     "name": "stdout",
     "output_type": "stream",
     "text": [
      "Training data shape: (120, 4)\n",
      "Test data shape: (30, 4)\n"
     ]
    }
   ],
   "source": [
    "from sklearn.model_selection import train_test_split\n",
    "import pandas as pd\n",
    "from sklearn.datasets import load_iris\n",
    "\n",
    "# Load sample data\n",
    "data = load_iris()\n",
    "X = pd.DataFrame(data.data, columns=data.feature_names)\n",
    "y = pd.Series(data.target)\n",
    "\n",
    "# Split into training and test sets (80% train, 20% test)\n",
    "X_train, X_test, y_train, y_test = train_test_split(X, y, test_size=0.2, random_state=42)\n",
    "\n",
    "print(\"Training data shape:\", X_train.shape)\n",
    "print(\"Test data shape:\", X_test.shape)\n"
   ]
  },
  {
   "cell_type": "markdown",
   "id": "6ab4b493-93d6-47d2-b8d4-a31a1fcbe361",
   "metadata": {},
   "source": [
    "12. How do you approach a Machine Learning problem?\n",
    "\n",
    "    -\n",
    "    Steps to approach an ML problem:\n",
    "    \n",
    "    Understand the problem\n",
    "    \n",
    "    Collect and explore the data\n",
    "    \n",
    "    Preprocess the data\n",
    "    \n",
    "    Select a model\n",
    "    \n",
    "    Train the model\n",
    "    \n",
    "    Evaluate the model\n",
    "    \n",
    "    Tune hyperparameters\n",
    "    \n",
    "    Deploy and monitor\n",
    "\n",
    "13. Why do we have to perform EDA before fitting a model to the data?\n",
    "    - Exploratory Data Analysis (EDA) helps in understanding the data, identifying patterns, detecting outliers, and uncovering missing values, which guides proper preprocessing and model selection.\n",
    "\n",
    "14. What is correlation?\n",
    "   - (Same as Q2) Correlation shows how strongly two variables are related.\n",
    "\n",
    "15. What does negative correlation mean?\n",
    "   - (Same as Q3) It means one variable increases as the other decreases.\n",
    "\n"
   ]
  },
  {
   "cell_type": "markdown",
   "id": "2c481970-1315-4a02-9f8d-7fe70b70a800",
   "metadata": {},
   "source": [
    "16. How can you find correlation between variables in Python?\n",
    "    - Using .corr() method in pandas:"
   ]
  },
  {
   "cell_type": "code",
   "execution_count": 4,
   "id": "ad8af33f-d747-49fd-b3c5-5b0e56df6104",
   "metadata": {},
   "outputs": [
    {
     "name": "stdout",
     "output_type": "stream",
     "text": [
      "          Height    Weight       Age\n",
      "Height  1.000000  0.989949  1.000000\n",
      "Weight  0.989949  1.000000  0.989949\n",
      "Age     1.000000  0.989949  1.000000\n"
     ]
    }
   ],
   "source": [
    "import pandas as pd\n",
    "\n",
    "# Sample dataset\n",
    "data = {\n",
    "    'Height': [150, 160, 170, 180, 190],\n",
    "    'Weight': [50, 60, 65, 70, 80],\n",
    "    'Age': [25, 30, 35, 40, 45]\n",
    "}\n",
    "\n",
    "# Create DataFrame\n",
    "df = pd.DataFrame(data)\n",
    "\n",
    "# Calculate correlation matrix\n",
    "correlation_matrix = df.corr()\n",
    "\n",
    "print(correlation_matrix)\n"
   ]
  },
  {
   "cell_type": "markdown",
   "id": "39d9fd4f-efb7-4e17-afa6-b766be8d76cb",
   "metadata": {},
   "source": [
    "17. What is causation? Explain difference between correlation and causation with an example.\n",
    "  -   Causation means one variable directly affects another.\n",
    "    \n",
    "    Correlation means two variables change together but don’t necessarily cause each other.\n",
    "    \n",
    "    Example: Ice cream sales and drowning deaths are correlated (due to summer) but one does not cause the other.\n",
    "\n",
    "18. What is an Optimizer? What are different types of optimizers? Explain each with an example.\n",
    "  -  An optimizer adjusts model parameters to minimize loss during training.\n",
    "    \n",
    "    Types:\n",
    "    \n",
    "    SGD (Stochastic Gradient Descent): Updates weights using a small batch of data.\n",
    "    \n",
    "    Adam: Combines momentum and adaptive learning rates.\n",
    "    \n",
    "    RMSprop: Maintains per-parameter learning rate.\n",
    "\n",
    "19. What is sklearn.linear_model?\n",
    "    - sklearn.linear_model is a module in Scikit-learn that contains algorithms for linear models like:\n",
    "    \n",
    "    LinearRegression\n",
    "    \n",
    "    LogisticRegression\n",
    "    \n",
    "    Ridge\n",
    "    \n",
    "    Lasso\n",
    "\n",
    "20. What does model.fit() do? What arguments must be given?\n",
    "   - model.fit(X, y) trains the model using features X and target y.\n",
    "    \n",
    "    Required arguments:\n",
    "    \n",
    "    X: Training features\n",
    "    \n",
    "    y: Target variable\n",
    "\n",
    "21. What does model.predict() do? What arguments must be given?\n",
    "   - model.predict(X_test) uses the trained model to predict the target for X_test.\n",
    "    \n",
    "    Required argument:\n",
    "    \n",
    "    X_test: Test data\n",
    "\n",
    "22. What are continuous and categorical variables?\n",
    "   -  (Same as Q6) Continuous = numeric, Categorical = categories.\n",
    "\n",
    "23. What is feature scaling? How does it help in Machine Learning?\n",
    "   - Feature scaling transforms features to a common scale (e.g., 0–1).\n",
    "\n",
    "    It improves model performance, especially for algorithms like KNN, SVM, and gradient descent-based models.\n",
    "\n"
   ]
  },
  {
   "cell_type": "markdown",
   "id": "c3cbcab7-bad9-4fcb-8d2a-eb60c5ce1561",
   "metadata": {},
   "source": [
    "24. How do we perform scaling in Python?\n",
    "   -  Using StandardScaler or MinMaxScaler:"
   ]
  },
  {
   "cell_type": "code",
   "execution_count": 5,
   "id": "b8cff2d1-5db8-4009-a36b-c8274c75b248",
   "metadata": {},
   "outputs": [],
   "source": [
    "from sklearn.preprocessing import StandardScaler\n",
    "scaler = StandardScaler()\n",
    "X_scaled = scaler.fit_transform(X)\n"
   ]
  },
  {
   "cell_type": "markdown",
   "id": "f6253b87-bebc-4614-8cd3-227b31fb36ab",
   "metadata": {},
   "source": [
    "25. Explain data encoding?\n",
    "    Data encoding converts categorical variables into numerical format so ML algorithms can process them.\n",
    "    \n",
    "    Types:\n",
    "    \n",
    "    Label Encoding\n",
    "    \n",
    "    One-Hot Encoding"
   ]
  },
  {
   "cell_type": "code",
   "execution_count": 7,
   "id": "9a9f365d-c422-4f4e-951e-100c6fde167f",
   "metadata": {},
   "outputs": [
    {
     "name": "stdout",
     "output_type": "stream",
     "text": [
      "   Value  Color_Blue  Color_Green  Color_Red\n",
      "0     10       False        False       True\n",
      "1     15        True        False      False\n",
      "2     20       False         True      False\n",
      "3     25        True        False      False\n",
      "4     30       False        False       True\n"
     ]
    }
   ],
   "source": [
    "import pandas as pd\n",
    "\n",
    "# Sample DataFrame with a categorical column 'Color'\n",
    "data = {\n",
    "    'Color': ['Red', 'Blue', 'Green', 'Blue', 'Red'],\n",
    "    'Value': [10, 15, 20, 25, 30]\n",
    "}\n",
    "\n",
    "df = pd.DataFrame(data)\n",
    "\n",
    "# Apply one-hot encoding\n",
    "encoded_df = pd.get_dummies(df, columns=['Color'])\n",
    "\n",
    "print(encoded_df)\n"
   ]
  },
  {
   "cell_type": "code",
   "execution_count": null,
   "id": "f0549c15-46f0-42d3-bee3-440ee844d04c",
   "metadata": {},
   "outputs": [],
   "source": []
  }
 ],
 "metadata": {
  "kernelspec": {
   "display_name": "Python 3 (ipykernel)",
   "language": "python",
   "name": "python3"
  },
  "language_info": {
   "codemirror_mode": {
    "name": "ipython",
    "version": 3
   },
   "file_extension": ".py",
   "mimetype": "text/x-python",
   "name": "python",
   "nbconvert_exporter": "python",
   "pygments_lexer": "ipython3",
   "version": "3.11.1"
  }
 },
 "nbformat": 4,
 "nbformat_minor": 5
}
