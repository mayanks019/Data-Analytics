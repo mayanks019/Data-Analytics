{
 "cells": [
  {
   "cell_type": "markdown",
   "id": "c8272019-1ff2-436f-a37a-d8b962cee590",
   "metadata": {},
   "source": [
    "## Python Basic Questions"
   ]
  },
  {
   "cell_type": "markdown",
   "id": "6dc461c0-e5cb-4125-add7-3a3d2c37b1aa",
   "metadata": {},
   "source": [
    "1. What is Python, and why is it popular?\n",
    "  - Python is a high-level programming language that is easy to learn and use. It is popular because it has a simple syntax, a large number of built-in libraries, and can be used for many purposes like web development, data science, automation, and artificial intelligence.\n",
    " \n",
    "2. What is an interpreter in Python?\n",
    "  - An interpreter is a program that runs Python code line by line. Unlike compiled languages, Python does not need to be fully converted into machine code before execution. This makes it easier to debug but slightly slower than compiled languages.\n",
    "\n",
    "3. What are pre-defined keywords in Python?\n",
    "  - Pre-defined keywords are special words in Python that have specific meanings and cannot be used for variable names or function names. Examples include if, else, while, for, def, return, etc.\n",
    "\n",
    "4. Can keywords be used as variable names?\n",
    "  - No keywords cannot be used as variable names because they are reserved for specific functions in Python. If you try to use a keyword as a variable name, Python will show an error.\n",
    "\n",
    "5. What is mutability in Python?\n",
    "  - Mutability refers to whether a data type can be changed after it is created. If an object is mutable, its values can be modified. If it is immutable, its values cannot be changed once assigned.\n",
    "\n",
    "6. Why are lists mutable, but tuples are immutable?\n",
    "  - Lists are mutable, meaning you can change their elements after creating them. This is because they are stored in a way that allows modification. Tuples, on the other hand, are immutable, meaning once they are created, they cannot be changed. This makes tuples faster and safer for data that should not be modified.\n",
    "\n",
    "7. What is the difference between == and is operators in Python?\n",
    "  - == checks if two variables have the same value.\n",
    "  - is checks if two variables refer to the same object in memory.\n",
    "       \n",
    "    Let's take an example\n",
    "    ```python\n",
    "    a = [1, 2, 3]\n",
    "    b = [1, 2, 3]\n",
    "    print(a == b)  # True (because values are the same)\n",
    "    print(a is b)  # False (because they are different objects in memory)\n",
    "\n",
    "8. What are logical operators in Python?\n",
    "  - Logical operators are used to combine multiple conditions:\n",
    "\n",
    "    and → Returns True if both conditions are true.\n",
    "    \n",
    "    or → Returns True if at least one condition is true.\n",
    "    \n",
    "    not → Reverses the truth value.\n",
    "\n",
    "    Let's take an example\n",
    "    ```python\n",
    "    x = 5\n",
    "    y = 10\n",
    "    print(x > 2 and y < 15)  # True\n",
    "    print(x > 6 or y < 15)   # True\n",
    "    print(not (x > 2))       # False\n",
    "\n",
    "9. What is type casting in Python?\n",
    "  - Type casting means converting a variable from one data type to another. For example, converting an integer to a string or a float to an integer.\n",
    "    For example\n",
    "    x = 10  \n",
    "    print(str(x))  # Converts integer to string\n",
    "\n",
    "10. What is the difference between implicit and explicit type casting?\n",
    "   - Implicit Type Casting → Python automatically converts one data type to another.\n",
    "    example\n",
    "    \n",
    "    x = 5\n",
    "    y = 2.5\n",
    "    z = x + y  # Python converts x to float automatically\n",
    "    print(type(z))  # Output: float\n",
    "\n",
    "    Explicit Type Casting → The programmer manually converts the data type using functions like int(), float(), str().\n",
    "    example\n",
    "    a = \"100\"\n",
    "    b = int(a)  # Manually converting string to integer\n",
    "    print(type(b))  # Output: int\n",
    "\n",
    "11. What is the purpose of conditional statements in Python?\n",
    "   - Conditional statements allow Python programs to make decisions based on conditions. They help execute different blocks of code depending on whether a condition is True or False.\n",
    "\n",
    "12. How does the elif statement work?\n",
    "   - The elif statement is used when there are multiple conditions to check. It allows checking multiple cases one by one.\n",
    "    example\n",
    "\n",
    "    x = 10\n",
    "    if x < 5:\n",
    "        print(\"x is less than 5\")\n",
    "    elif x == 10:\n",
    "        print(\"x is exactly 10\")\n",
    "    else:\n",
    "        print(\"x is greater than 10\")\n",
    "\n",
    "13. What is the difference between for and while loops?\n",
    "   - A for loop is used when the number of iterations is known in advance.\n",
    "\n",
    "A while loop is used when the number of iterations is unknown and depends on a condition.\n",
    "\n",
    "14. Describe a scenario where a while loop is more suitable than a for loop.\n",
    "   - A while loop is better when we do not know how many times the loop should run.\n",
    "   - example\n",
    "     \n",
    "    password = \"\"\n",
    "        while password != \"secret\":\n",
    "        password = input(\"Enter password: \")\n",
    "    print(\"Access granted!\")'''\n",
    "    \n",
    "\n",
    "      \n",
    "    Here, we don’t know how many times the user will enter the wrong password, so a while loop is a better choice."
   ]
  },
  {
   "cell_type": "markdown",
   "id": "c53ace70-944b-4337-a11d-2674b1348c0b",
   "metadata": {},
   "source": [
    "## Practical Questions\n"
   ]
  },
  {
   "cell_type": "code",
   "execution_count": 1,
   "id": "77ddd3cf-0f53-4d5f-8ed4-dd46cf223f9d",
   "metadata": {},
   "outputs": [
    {
     "name": "stdout",
     "output_type": "stream",
     "text": [
      "Hello, World!\n"
     ]
    }
   ],
   "source": [
    "# 1. Write a Python program to print \"Hello, World!\"\n",
    "\n",
    "print(\"Hello, World!\")\n"
   ]
  },
  {
   "cell_type": "code",
   "execution_count": 2,
   "id": "c25209c8-177d-4cf7-89f7-eaa79624eaab",
   "metadata": {},
   "outputs": [
    {
     "name": "stdout",
     "output_type": "stream",
     "text": [
      "Name: Mayank\n",
      "Age: 22\n"
     ]
    }
   ],
   "source": [
    "# 2. Write a Python program that displays your name and age\n",
    "\n",
    "name = \"Mayank\"\n",
    "age = 22\n",
    "print(\"Name:\", name)\n",
    "print(\"Age:\", age)\n"
   ]
  },
  {
   "cell_type": "code",
   "execution_count": 3,
   "id": "091931e2-395a-47d6-a6df-6343d597254e",
   "metadata": {},
   "outputs": [
    {
     "name": "stdout",
     "output_type": "stream",
     "text": [
      "['False', 'None', 'True', 'and', 'as', 'assert', 'async', 'await', 'break', 'class', 'continue', 'def', 'del', 'elif', 'else', 'except', 'finally', 'for', 'from', 'global', 'if', 'import', 'in', 'is', 'lambda', 'nonlocal', 'not', 'or', 'pass', 'raise', 'return', 'try', 'while', 'with', 'yield']\n"
     ]
    }
   ],
   "source": [
    "#  3. Write code to print all the pre-defined keywords in Python using the keyword library\n",
    "\n",
    "import keyword\n",
    "print(keyword.kwlist)\n"
   ]
  },
  {
   "cell_type": "code",
   "execution_count": 4,
   "id": "f01b0482-6546-4e0f-a945-048eb5bd0028",
   "metadata": {},
   "outputs": [
    {
     "name": "stdin",
     "output_type": "stream",
     "text": [
      "Enter a word:  True\n"
     ]
    },
    {
     "name": "stdout",
     "output_type": "stream",
     "text": [
      "'True' is a Python keyword.\n"
     ]
    }
   ],
   "source": [
    "# 4. Write a program that checks if a given word is a Python keyword.\n",
    "\n",
    "\n",
    "word = input(\"Enter a word: \")\n",
    "if keyword.iskeyword(word):\n",
    "    print(f\"'{word}' is a Python keyword.\")\n",
    "else:\n",
    "    print(f\"'{word}' is not a Python keyword.\")\n"
   ]
  },
  {
   "cell_type": "code",
   "execution_count": 5,
   "id": "af44122d-ba76-46f0-a970-b095032ac8e9",
   "metadata": {},
   "outputs": [
    {
     "name": "stdout",
     "output_type": "stream",
     "text": [
      "Modified List: [100, 2, 3]\n",
      "Tuple: (1, 2, 3)\n"
     ]
    }
   ],
   "source": [
    "# 5.  Create a list and tuple in Python, and demonstrate how attempting to change an element works differently for each.\n",
    "\n",
    "# List (Mutable)\n",
    "my_list = [1, 2, 3]\n",
    "my_list[0] = 100  \n",
    "print(\"Modified List:\", my_list)\n",
    "\n",
    "# Tuple (Immutable)\n",
    "my_tuple = (1, 2, 3)\n",
    "# my_tuple[0] = 100  # This will cause an error\n",
    "print(\"Tuple:\", my_tuple)\n"
   ]
  },
  {
   "cell_type": "code",
   "execution_count": 6,
   "id": "d46ef7fa-e8ba-43b7-8b63-500e3c4aacb5",
   "metadata": {},
   "outputs": [
    {
     "name": "stdout",
     "output_type": "stream",
     "text": [
      "Number after function call: 5\n",
      "List after function call: [1, 2, 3, 4]\n"
     ]
    }
   ],
   "source": [
    "# 6. Write a function to demonstrate the behavior of mutable and immutable arguments.\n",
    "\n",
    "def modify_data(a, b):\n",
    "    a = 10  # Immutable (int)\n",
    "    b.append(4)  # Mutable (list)\n",
    "    \n",
    "num = 5  # Immutable\n",
    "lst = [1, 2, 3]  # Mutable\n",
    "modify_data(num, lst)\n",
    "\n",
    "print(\"Number after function call:\", num)  # Remains unchanged\n",
    "print(\"List after function call:\", lst)  # Changes\n"
   ]
  },
  {
   "cell_type": "code",
   "execution_count": 8,
   "id": "3a1f0ed6-1a95-48c8-a10e-3e7619ed2792",
   "metadata": {},
   "outputs": [
    {
     "name": "stdout",
     "output_type": "stream",
     "text": [
      "Number after function call: 5\n",
      "List after function call: [1, 2, 3, 4]\n"
     ]
    }
   ],
   "source": [
    "# 7. Write a function to demonstrate the behavior of mutable and immutable arguments.\n",
    "\n",
    "def modify_data(a, b):\n",
    "    a = 10  # Immutable (int)\n",
    "    b.append(4)  # Mutable (list)\n",
    "    \n",
    "num = 5  # Immutable\n",
    "lst = [1, 2, 3]  # Mutable\n",
    "modify_data(num, lst)\n",
    "\n",
    "print(\"Number after function call:\", num)  # Remains unchanged\n",
    "print(\"List after function call:\", lst)  # Changes\n",
    "\n"
   ]
  },
  {
   "cell_type": "code",
   "execution_count": 9,
   "id": "98dfb9cb-e2c3-4dcb-83af-dbc666fd5b7b",
   "metadata": {},
   "outputs": [
    {
     "name": "stdout",
     "output_type": "stream",
     "text": [
      "True\n",
      "True\n",
      "False\n"
     ]
    }
   ],
   "source": [
    "# 8.  Write a program to demonstrate the use of logical operators.\n",
    "\n",
    "x = 10\n",
    "y = 20\n",
    "\n",
    "print(x > 5 and y > 15)  # True\n",
    "print(x < 5 or y > 15)   # True\n",
    "print(not (x > 5))       # False\n",
    "\n"
   ]
  },
  {
   "cell_type": "code",
   "execution_count": 10,
   "id": "a6c48212-a255-43d9-bb8c-532ba374f97b",
   "metadata": {},
   "outputs": [
    {
     "name": "stdin",
     "output_type": "stream",
     "text": [
      "Enter a value:  40\n"
     ]
    },
    {
     "name": "stdout",
     "output_type": "stream",
     "text": [
      "Integer: 40\n",
      "Float: 40.0\n",
      "Boolean: True\n"
     ]
    }
   ],
   "source": [
    "# 9. Write a Python program to convert user input from string to integer, float, and boolean types.\n",
    "\n",
    "user_input = input(\"Enter a value: \")\n",
    "int_val = int(user_input)\n",
    "float_val = float(user_input)\n",
    "bool_val = bool(user_input)\n",
    "\n",
    "print(\"Integer:\", int_val)\n",
    "print(\"Float:\", float_val)\n",
    "print(\"Boolean:\", bool_val)\n"
   ]
  },
  {
   "cell_type": "code",
   "execution_count": 11,
   "id": "2b3809b3-24bf-45d9-a22e-b1bbc4d131a9",
   "metadata": {},
   "outputs": [
    {
     "name": "stdout",
     "output_type": "stream",
     "text": [
      "Converted List: [1, 2, 3]\n"
     ]
    }
   ],
   "source": [
    "# 10. Write code to demonstrate type casting with list elements.\n",
    "\n",
    "my_list = [\"1\", \"2\", \"3\"]\n",
    "int_list = list(map(int, my_list))  # Convert string list to integer list\n",
    "print(\"Converted List:\", int_list)\n"
   ]
  },
  {
   "cell_type": "code",
   "execution_count": 12,
   "id": "2d2d94a8-100e-403f-9058-cc36a9fe89e2",
   "metadata": {},
   "outputs": [
    {
     "name": "stdin",
     "output_type": "stream",
     "text": [
      "Enter a number:  2\n"
     ]
    },
    {
     "name": "stdout",
     "output_type": "stream",
     "text": [
      "Positive Number\n"
     ]
    }
   ],
   "source": [
    "# 11.  Write a program that checks if a number is positive, negative, or zero.\n",
    "\n",
    "num = int(input(\"Enter a number: \"))\n",
    "\n",
    "if num > 0:\n",
    "    print(\"Positive Number\")\n",
    "elif num < 0:\n",
    "    print(\"Negative Number\")\n",
    "else:\n",
    "    print(\"Zero\")\n"
   ]
  },
  {
   "cell_type": "code",
   "execution_count": 13,
   "id": "c065eecf-d5f2-486b-93ca-f3cb054f1b58",
   "metadata": {},
   "outputs": [
    {
     "name": "stdout",
     "output_type": "stream",
     "text": [
      "1 2 3 4 5 6 7 8 9 10 11 12 13 14 15 16 17 18 19 20 21 22 23 24 25 26 27 28 29 30 31 32 33 34 35 36 37 38 39 40 41 42 43 44 45 46 47 48 49 50 51 52 53 54 55 56 57 58 59 60 61 62 63 64 65 66 67 68 69 70 71 72 73 74 75 76 77 78 79 80 81 82 83 84 85 86 87 88 89 90 91 92 93 94 95 96 97 98 99 100 "
     ]
    }
   ],
   "source": [
    "# 12. Write a for loop to print numbers from 1 to 100.\n",
    "\n",
    "for i in range(1, 101):\n",
    "    print(i, end=\" \")\n"
   ]
  },
  {
   "cell_type": "code",
   "execution_count": 14,
   "id": "78ad147c-d2ee-4ab0-b1dc-e411cd6213a5",
   "metadata": {},
   "outputs": [
    {
     "name": "stdout",
     "output_type": "stream",
     "text": [
      "Sum of even numbers: 62750\n"
     ]
    }
   ],
   "source": [
    "# 13.  Write a Python program to find the sum of all even numbers between 1 and 500.\n",
    "\n",
    "sum_even = sum(i for i in range(1, 501) if i % 2 == 0)\n",
    "print(\"Sum of even numbers:\", sum_even)\n",
    "\n"
   ]
  },
  {
   "cell_type": "code",
   "execution_count": 15,
   "id": "34c1071c-6ba2-4579-809a-ca08006eb9c0",
   "metadata": {},
   "outputs": [
    {
     "name": "stdin",
     "output_type": "stream",
     "text": [
      "Enter a string:  Mayank\n"
     ]
    },
    {
     "name": "stdout",
     "output_type": "stream",
     "text": [
      "Reversed String: knayaM\n"
     ]
    }
   ],
   "source": [
    "# 14. Write a program to reverse a string using a while loop.\n",
    "\n",
    "text = input(\"Enter a string: \")\n",
    "reversed_text = \"\"\n",
    "index = len(text) - 1\n",
    "\n",
    "while index >= 0:\n",
    "    reversed_text += text[index]\n",
    "    index -= 1\n",
    "\n",
    "print(\"Reversed String:\", reversed_text)\n"
   ]
  },
  {
   "cell_type": "code",
   "execution_count": 17,
   "id": "6472e567-3f39-45be-9aa6-5fa1d920f64d",
   "metadata": {},
   "outputs": [
    {
     "name": "stdin",
     "output_type": "stream",
     "text": [
      "Enter a number:  5\n"
     ]
    },
    {
     "name": "stdout",
     "output_type": "stream",
     "text": [
      "Factorial of 5 is 120\n"
     ]
    }
   ],
   "source": [
    "# 15. Write a Python program to calculate the factorial of a number provided by the user using a while loop.\n",
    "\n",
    "num = int(input(\"Enter a number: \"))\n",
    "factorial = 1\n",
    "i = 1\n",
    "\n",
    "while i <= num:\n",
    "    factorial *= i\n",
    "    i += 1\n",
    "\n",
    "print(f\"Factorial of {num} is {factorial}\")\n"
   ]
  },
  {
   "cell_type": "code",
   "execution_count": null,
   "id": "f687fc37-47af-4d90-a8d4-fcf825f60000",
   "metadata": {},
   "outputs": [],
   "source": []
  }
 ],
 "metadata": {
  "kernelspec": {
   "display_name": "Python 3 (ipykernel)",
   "language": "python",
   "name": "python3"
  },
  "language_info": {
   "codemirror_mode": {
    "name": "ipython",
    "version": 3
   },
   "file_extension": ".py",
   "mimetype": "text/x-python",
   "name": "python",
   "nbconvert_exporter": "python",
   "pygments_lexer": "ipython3",
   "version": "3.11.1"
  }
 },
 "nbformat": 4,
 "nbformat_minor": 5
}
