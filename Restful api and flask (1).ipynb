{
 "cells": [
  {
   "cell_type": "markdown",
   "id": "bb9bdfaa-1584-4c66-bd80-1e69055bf1e5",
   "metadata": {},
   "source": [
    "# Restful Api and flask"
   ]
  },
  {
   "cell_type": "markdown",
   "id": "3ef766c8-1ded-4f19-bb8b-915649c3339e",
   "metadata": {},
   "source": [
    "# 1. What is a RESTful API?\n",
    "    - A RESTful API is an API that follows REST (Representational State Transfer) rules. It lets two applications talk to each other using HTTP (like GET, POST). It is simple, stateless, and uses URLs to represent resources.\n",
    "\n",
    "# 2. Explain the concept of API specification.\n",
    "    - API specification is like a blueprint or manual for your API. It explains what endpoints exist, what input they need, and what output they give. Example: Swagger or OpenAPI specification.\n",
    "\n",
    "# 3. What is Flask, and why is it popular for building APIs?\n",
    "    - Flask is a lightweight Python web framework. It’s popular because it is simple, fast, easy to learn, and flexible. It is great for small-to-medium APIs.\n",
    "\n",
    "# 4. What is routing in Flask?\n",
    "    - Routing means deciding which function should run when a user visits a specific URL. In Flask, we use @app.route() to define routes.\n",
    "\n",
    "# 5. How do you create a simple Flask application?\n",
    "\n",
    "    from flask import Flask\n",
    "    app = Flask(__name__)\n",
    "    \n",
    "    @app.route('/')\n",
    "    def home():\n",
    "        return \"Hello, Flask!\"\n",
    "    \n",
    "    if __name__ == '__main__':\n",
    "        app.run()\n",
    "\n",
    "# 6. What are HTTP methods used in RESTful APIs?\n",
    "    - GET → Fetch data\n",
    "        POST → Send new data\n",
    "        PUT → Update data\n",
    "        DELETE → Remove data\n",
    "\n",
    "# 7. What is the purpose of the @app.route() decorator in Flask?\n",
    "    - It connects a URL to a function. Example: visiting /hello runs the function decorated with @app.route('/hello').\n",
    "\n",
    "# 8. What is the difference between GET and POST HTTP methods?\n",
    "    - GET: Requests data (visible in URL).\n",
    "    POST: Sends data (hidden, sent in request body). Used for sensitive info like passwords.\n",
    "\n",
    "# 9. How do you handle errors in Flask APIs?\n",
    "\n",
    "     @app.errorhandler(404)\n",
    "    def not_found(e):\n",
    "        return {\"error\": \"Not Found\"}, 404\n",
    "\n",
    "# 10. How do you connect Flask to a SQL database?\n",
    "    - By using libraries like Flask-SQLAlchemy, which helps to connect and manage the database easily.\n",
    "\n",
    "# 11. What is the role of Flask-SQLAlchemy?\n",
    "    - It is an ORM (Object Relational Mapper). Instead of writing raw SQL queries, you use Python classes and objects to interact with the database.\n",
    "\n",
    "# 12. What are Flask blueprints, and how are they useful?\n",
    "    - Blueprints allow you to organize your app into smaller, reusable parts. Good for large applications.\n",
    "\n",
    "# 13. What is the purpose of Flask’s request object?\n",
    "    - The request object stores data sent by the client (user). For example: form data, JSON, headers.\n",
    "\n",
    "# 14. How do you create a RESTful API endpoint using Flask?\n",
    "\n",
    "    from flask import Flask, jsonify\n",
    "    app = Flask(__name__)\n",
    "    \n",
    "    @app.route('/api/data', methods=['GET'])\n",
    "    def get_data():\n",
    "        return jsonify({\"name\": \"Mayank\", \"age\": 22})\n",
    "\n",
    "# 15. What is the purpose of Flask’s jsonify() function?\n",
    "    - It converts Python dictionaries/lists into JSON format, which is the standard for APIs.\n",
    "\n",
    "# 16. Explain Flask’s url_for() function.\n",
    "    - It generates URLs for routes dynamically. Example: url_for('home') → /home.\n",
    "\n",
    "# 17. How does Flask handle static files (CSS, JavaScript, etc.)?\n",
    "    - Flask automatically serves files from a static/ folder. Example: url_for('static', filename='style.css').\n",
    "\n",
    "# 18. What is an API specification, and how does it help in building a Flask API?\n",
    "    - API specification explains how the API works (endpoints, inputs, outputs). It helps developers understand and use the API without confusion.\n",
    "\n",
    "# 19. What are HTTP status codes, and why are they important in a Flask API?\n",
    "    - Status codes show the result of a request:\n",
    "    200 → Success\n",
    "    404 → Not Found\n",
    "    500 → Server Error\n",
    "    They help clients understand what happened.\n",
    "\n",
    "# 20. How do you handle POST requests in Flask?\n",
    "    from flask import request\n",
    "    @app.route('/submit', methods=['POST'])\n",
    "    def submit():\n",
    "        data = request.json\n",
    "        return {\"you sent\": data}\n",
    "\n",
    "# 21. How would you secure a Flask API?\n",
    "    - Use Authentication (JWT, OAuth, API keys)\n",
    "    Validate user input\n",
    "    Use HTTPS\n",
    "    Handle errors properly\n",
    "\n",
    "# 22. What is the significance of the Flask-RESTful extension?\n",
    "    - Flask-RESTful is a Flask extension that makes building REST APIs easier by giving extra tools (like Resource classes, better request parsing, etc.).\n",
    "\n",
    "# 23. What is the role of Flask’s session object?\n",
    "    - A session stores temporary data for a user (like login info). It is stored on the server and linked to the user with a cookie."
   ]
  },
  {
   "cell_type": "markdown",
   "id": "cc555fcf-fd89-4f3c-bc02-bb2fbc0fcc46",
   "metadata": {},
   "source": [
    "\n",
    "## practical question "
   ]
  },
  {
   "cell_type": "code",
   "execution_count": null,
   "id": "000705a5-1bdb-4938-ac3c-771ac794d7f5",
   "metadata": {},
   "outputs": [
    {
     "name": "stdout",
     "output_type": "stream",
     "text": [
      " * Serving Flask app '__main__'\n",
      " * Debug mode: off\n"
     ]
    },
    {
     "name": "stderr",
     "output_type": "stream",
     "text": [
      "WARNING: This is a development server. Do not use it in a production deployment. Use a production WSGI server instead.\n",
      " * Running on http://127.0.0.1:5000\n",
      "Press CTRL+C to quit\n",
      "127.0.0.1 - - [19/Aug/2025 13:20:29] \"GET / HTTP/1.1\" 200 -\n"
     ]
    }
   ],
   "source": [
    "# 1. How do you create a basic Flask application?\n",
    "from flask import Flask \n",
    "app= Flask(__name__)\n",
    "\n",
    "@app.route('/')\n",
    "def home():\n",
    "    return 'introduce yourshelf'\n",
    "\n",
    "if __name__ == '__main__':\n",
    "    app.run()"
   ]
  },
  {
   "cell_type": "code",
   "execution_count": null,
   "id": "5f1775ab-9a8d-4d19-8800-c3b3348a1a8f",
   "metadata": {},
   "outputs": [],
   "source": [
    "# 2. How do you serve static files like images or CSS in Flask?\n",
    "# -- Put files in a static/ folder.\n",
    "<link rel=\"stylesheet\" href=\"{{ url_for('static', filename='style.css') }}\">\n"
   ]
  },
  {
   "cell_type": "code",
   "execution_count": null,
   "id": "4ec6401b-1090-432e-95ce-580de2312121",
   "metadata": {},
   "outputs": [],
   "source": [
    "# 3. How do you define different routes with different HTTP methods in Flask?\n",
    "\n",
    "@app.route('/data', methods=['GET', 'POST'])\n",
    "def data():\n",
    "    if request.method == 'POST':\n",
    "        return \"POST request\"\n",
    "    return \"GET request\"\n"
   ]
  },
  {
   "cell_type": "code",
   "execution_count": null,
   "id": "eeac5c8a-0ebc-4cd3-a267-aaec01c35192",
   "metadata": {},
   "outputs": [],
   "source": [
    "# 4. How do you render HTML templates in Flask?\n",
    " # Place files in a templates/ folder.\n",
    "from flask import render_template\n",
    "@app.route('/about')\n",
    "def about():\n",
    "    return render_template('about.html')\n"
   ]
  },
  {
   "cell_type": "code",
   "execution_count": null,
   "id": "6d7be70b-1eba-4ef6-80af-8a64cbbcf30e",
   "metadata": {},
   "outputs": [],
   "source": [
    "# 5. How can you generate URLs for routes in Flask using url_for()?\n",
    "from flask import url_for\n",
    "url_for('about')   # returns \"/about\"\n"
   ]
  },
  {
   "cell_type": "code",
   "execution_count": null,
   "id": "207ea269-05ba-476d-ae63-bf84e6a4633c",
   "metadata": {},
   "outputs": [],
   "source": [
    "# 6. How do you handle forms in Flask?\n",
    "@app.route('/form', methods=['POST'])\n",
    "def form():\n",
    "    name = request.form['username']\n",
    "    return f\"Hello {name}\"\n"
   ]
  },
  {
   "cell_type": "code",
   "execution_count": null,
   "id": "0d05face-9e83-4f28-861d-bdf8d2559943",
   "metadata": {},
   "outputs": [],
   "source": [
    "# 7. How can you validate form data in Flask?\n",
    "# Manually check values:\n",
    "if not request.form['username']:\n",
    "    return \"Username required\"\n",
    "#Or use WTForms library for validation."
   ]
  },
  {
   "cell_type": "code",
   "execution_count": null,
   "id": "a32e3e6f-c323-4d35-b55b-151ae9ae3bb0",
   "metadata": {},
   "outputs": [],
   "source": [
    "# 8.  How do you manage sessions in Flask?\n",
    "from flask import session\n",
    "app.secret_key = 'secret'\n",
    "session['user'] = 'Mayank'\n",
    "user = session.get('user')\n"
   ]
  },
  {
   "cell_type": "code",
   "execution_count": null,
   "id": "e01ba0f6-6df7-4e09-9575-5051afac95b7",
   "metadata": {},
   "outputs": [],
   "source": [
    "# 9 . How do you redirect to a different route in Flask?\n",
    "from flask import redirect, url_for\n",
    "return redirect(url_for('home'))\n"
   ]
  },
  {
   "cell_type": "code",
   "execution_count": null,
   "id": "af7b60da-b72f-4d46-b6e2-c05b6ba8e7e2",
   "metadata": {},
   "outputs": [],
   "source": [
    "#10 . How do you handle errors in Flask (e.g., 404)?\n",
    "@app.errorhandler(404)\n",
    "def not_found(e):\n",
    "    return \"Page not found\", 404\n"
   ]
  },
  {
   "cell_type": "code",
   "execution_count": null,
   "id": "28346efa-f9dc-48a4-9f99-86c55bc29a2b",
   "metadata": {},
   "outputs": [],
   "source": [
    "#11. How do you structure a Flask app using Blueprints?\n",
    "from flask import Blueprint\n",
    "user_bp = Blueprint('user', __name__)\n",
    "\n",
    "@user_bp.route('/profile')\n",
    "def profile():\n",
    "    return \"User Profile\"\n",
    "\n",
    "app.register_blueprint(user_bp, url_prefix='/user')\n"
   ]
  },
  {
   "cell_type": "code",
   "execution_count": null,
   "id": "d631973a-1464-41f0-a8a4-ac08beab4b7d",
   "metadata": {},
   "outputs": [],
   "source": [
    "# 12. How do you define a custom Jinja filter in Flask?\n",
    "@app.template_filter('reverse')\n",
    "def reverse_string(s):\n",
    "    return s[::-1]\n"
   ]
  },
  {
   "cell_type": "code",
   "execution_count": null,
   "id": "6dc6157f-d796-4268-96be-aea122474be9",
   "metadata": {},
   "outputs": [],
   "source": [
    "# 13. How can you redirect with query parameters in Flask?\n",
    "return redirect(url_for('search', q='flask'))\n"
   ]
  },
  {
   "cell_type": "code",
   "execution_count": null,
   "id": "8ba90a98-4e12-49d3-82f3-4db6716bc944",
   "metadata": {},
   "outputs": [],
   "source": [
    "#14. How do you return JSON responses in Flask?\n",
    "from flask import jsonify\n",
    "return jsonify({\"name\": \"Mayank\", \"age\": 22})\n"
   ]
  },
  {
   "cell_type": "code",
   "execution_count": null,
   "id": "7f9fe7f4-b27e-4f67-a340-cf4810e5307a",
   "metadata": {},
   "outputs": [],
   "source": [
    "# 15. How do you capture URL parameters in Flask?\n",
    "@app.route('/user/<name>')\n",
    "def user(name):\n",
    "    return f\"Hello {name}\"\n"
   ]
  },
  {
   "cell_type": "code",
   "execution_count": null,
   "id": "e3af4118-bd8d-43ca-bfa7-fa502185626c",
   "metadata": {},
   "outputs": [],
   "source": []
  },
  {
   "cell_type": "code",
   "execution_count": null,
   "id": "602dfa7b-7000-460c-8405-3db52da74c99",
   "metadata": {},
   "outputs": [],
   "source": []
  },
  {
   "cell_type": "code",
   "execution_count": null,
   "id": "d1813f64-3213-4d19-80cc-4cc391bff767",
   "metadata": {},
   "outputs": [],
   "source": []
  }
 ],
 "metadata": {
  "kernelspec": {
   "display_name": "Python 3 (ipykernel)",
   "language": "python",
   "name": "python3"
  },
  "language_info": {
   "codemirror_mode": {
    "name": "ipython",
    "version": 3
   },
   "file_extension": ".py",
   "mimetype": "text/x-python",
   "name": "python",
   "nbconvert_exporter": "python",
   "pygments_lexer": "ipython3",
   "version": "3.11.1"
  }
 },
 "nbformat": 4,
 "nbformat_minor": 5
}
