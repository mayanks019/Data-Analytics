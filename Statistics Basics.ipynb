{
 "cells": [
  {
   "cell_type": "markdown",
   "id": "eb76e037-9939-408b-8750-762e1c42fb36",
   "metadata": {},
   "source": [
    "## Assignment ."
   ]
  },
  {
   "cell_type": "markdown",
   "id": "f21ab507-b8de-4615-b957-cd84fecbf383",
   "metadata": {},
   "source": [
    "# Statistics Basics \n",
    "\n",
    "1. What is statistics, and why is it important?  \n",
    "   - Statistics is a way to collect, organize, and understand data. It helps us make decisions using numbers and facts.\n",
    "\n",
    "2. What are the two main types of statistics?  \n",
    "   - The two types are descriptive statistics (which summarize data) and inferential statistics (which make predictions from data).\n",
    "\n",
    "3. What are descriptive statistics?  \n",
    "   - Descriptive statistics help us to describe or summarize data using charts, graphs, mean, median, mode, etc.\n",
    "\n",
    "4. What is inferential statistics?  \n",
    "   - Inferential statistics allow us to make guesses or conclusions about a larger group using data from a small group.\n",
    "\n",
    "5. What is sampling in statistics?  \n",
    "   - Sampling is taking a small part from a big group (population) to study and make conclusions about the whole group.\n",
    "\n",
    "6. What are the different types of sampling methods?  \n",
    "   - Some methods are random sampling, stratified sampling, cluster sampling, and systematic sampling.\n",
    "\n",
    "7. What is the difference between random and non-random sampling?  \n",
    "   - In random sampling, everyone has an equal chance. In non-random sampling, some are picked on purpose or by convenience.\n",
    "\n",
    "8. Define and give examples of qualitative and quantitative data.  \n",
    "   - Qualitative data is descriptive like color or name. Example: \"Red shirt.\" Quantitative data is numerical like height or age. Example: \"170 cm tall.\"\n",
    "\n",
    "9. What are the different types of data in statistics?  \n",
    "   - The types are: nominal, ordinal, interval, and ratio.\n",
    "\n",
    "10. Explain nominal, ordinal, interval, and ratio levels of measurement.  \n",
    "    - Nominal: names only (e.g., colors).  \n",
    "    - Ordinal: order matters (e.g., ranks).  \n",
    "    - Interval: numbers with order, but no true zero (e.g., temperature in Celsius).  \n",
    "    - Ratio: like interval, but with a true zero (e.g., weight, height).\n",
    "\n",
    "11. What is the measure of central tendency?  \n",
    "    - It tells us the center or average of data. Main measures: mean, median, and mode.\n",
    "\n",
    "12. Define mean, median, and mode.  \n",
    "    - Mean: average.  \n",
    "    - Median: middle value.  \n",
    "    - Mode: value that appears most often.\n",
    "\n",
    "13. What is the significance of the measure of central tendency?  \n",
    "    - It helps to understand the main value in a dataset and to compare different sets.\n",
    "\n",
    "14. What is variance, and how is it calculated?  \n",
    "    - Variance shows how much the numbers differ from the average. It is the average of the squared differences from the mean.\n",
    "\n",
    "15. What is standard deviation, and why is it important?  \n",
    "    - Standard deviation shows how spread out the data is. It's important to understand variation in data.\n",
    "\n",
    "16. Define and explain the term range in statistics.  \n",
    "    - Range is the difference between the highest and lowest values in a dataset.\n",
    "\n",
    "17. What is the difference between variance and standard deviation?  \n",
    "    - Variance is the average of squared differences from the mean. Standard deviation is the square root of variance.\n",
    "\n",
    "18. What is skewness in a dataset?  \n",
    "    - Skewness tells us if data is lopsided (not symmetrical). It shows if data leans left or right.\n",
    "\n",
    "19. What does it mean if a dataset is positively or negatively skewed?  \n",
    "    - Positively skewed: tail on the right, more low values.  \n",
    "    - Negatively skewed: tail on the left, more high values.\n",
    "\n",
    "20. Define and explain kurtosis.  \n",
    "    - Kurtosis shows how sharp or flat the peak of the data graph is compared to normal.\n",
    "\n",
    "21. What is the purpose of covariance?  \n",
    "    - Covariance tells us how two variables change together. If both increase, it’s positive covariance.\n",
    "\n",
    "22. What does correlation measure in statistics?  \n",
    "    - Correlation tells us how strongly two variables are related. It shows the direction and strength of their relationship.\n",
    "\n",
    "23. What is the difference between covariance and correlation?  \n",
    "    - Covariance shows if two variables move together, but correlation also shows how strong and in what direction.\n",
    "\n",
    "24. What are some real-world applications of statistics?  \n",
    "    - Used in weather forecasting, business, sports, medicine, social sciences, and government planning.\n"
   ]
  },
  {
   "cell_type": "markdown",
   "id": "0334bab5-4bb3-4962-89e9-8393125b27cb",
   "metadata": {},
   "source": [
    "## Practical Questions"
   ]
  },
  {
   "cell_type": "code",
   "execution_count": 1,
   "id": "9695f6e0-3067-4c06-815c-757ed03fdb42",
   "metadata": {},
   "outputs": [
    {
     "name": "stdout",
     "output_type": "stream",
     "text": [
      "Mean: 5.25\n",
      "Median: 4.5\n",
      "Mode: 4\n"
     ]
    }
   ],
   "source": [
    "# 1. How do you calculate the mean, median, and mode of a dataset?\n",
    "\n",
    "import statistics\n",
    "\n",
    "data = [2, 4, 4, 4, 5, 6, 8, 9]\n",
    "\n",
    "mean = statistics.mean(data)\n",
    "median = statistics.median(data)\n",
    "mode = statistics.mode(data)\n",
    "\n",
    "print(\"Mean:\", mean)\n",
    "print(\"Median:\", median)\n",
    "print(\"Mode:\", mode)\n"
   ]
  },
  {
   "cell_type": "code",
   "execution_count": 2,
   "id": "810f491b-7c28-4eac-ac78-8846eed617f6",
   "metadata": {},
   "outputs": [
    {
     "name": "stdout",
     "output_type": "stream",
     "text": [
      "Variance: 27.428571428571427\n",
      "Standard Deviation: 5.237229365663818\n"
     ]
    }
   ],
   "source": [
    "# 2. Write a Python program to compute the variance and standard deviation of a dataset.\n",
    "\n",
    "import statistics\n",
    "\n",
    "data = [10, 12, 23, 23, 16, 23, 21, 16]\n",
    "\n",
    "variance = statistics.variance(data)\n",
    "std_deviation = statistics.stdev(data)\n",
    "\n",
    "print(\"Variance:\", variance)\n",
    "print(\"Standard Deviation:\", std_deviation)\n"
   ]
  },
  {
   "cell_type": "code",
   "execution_count": 11,
   "id": "7cd66469-e5dc-4cb0-8e38-cec75a3fcd9c",
   "metadata": {},
   "outputs": [
    {
     "name": "stdout",
     "output_type": "stream",
     "text": [
      "Nominal Data: ['Red', 'Blue', 'Green']\n",
      "Ordinal Data: ['Low', 'Medium', 'High']\n",
      "Interval Data: [20, 30, 40]\n",
      "Ratio Data: [150, 170, 180]\n"
     ]
    }
   ],
   "source": [
    "# 3. Create a dataset and classify it into nominal, ordinal, interval, and ratio types.\n",
    "\n",
    "dataset = {\n",
    "    \"Nominal\": [\"Red\", \"Blue\", \"Green\"],  \n",
    "    \"Ordinal\": [\"Low\", \"Medium\", \"High\"],  \n",
    "    \"Interval\": [20, 30, 40],  \n",
    "    \"Ratio\": [150, 170, 180]  \n",
    "}\n",
    "\n",
    "for scale, values in dataset.items():\n",
    "    print(f\"{scale} Data: {values}\")\n"
   ]
  },
  {
   "cell_type": "code",
   "execution_count": 12,
   "id": "789b126e-9e2e-40b8-bda0-fefd962baf94",
   "metadata": {},
   "outputs": [
    {
     "name": "stdout",
     "output_type": "stream",
     "text": [
      "Random Sample:\n",
      "   Category  Value\n",
      "0        A     10\n",
      "4        B     35\n",
      "5        C     40\n",
      "1        A     20\n",
      "\n",
      "Stratified Sample:\n",
      "   Category  Value\n",
      "6        C     45\n",
      "7        C     50\n",
      "3        B     25\n",
      "1        A     20\n"
     ]
    }
   ],
   "source": [
    "# 4. Implement sampling techniques like random sampling and stratified sampling.\n",
    "\n",
    "import pandas as pd\n",
    "from sklearn.model_selection import train_test_split\n",
    "\n",
    "\n",
    "data = pd.DataFrame({\n",
    "    'Category': ['A', 'A', 'B', 'B', 'B', 'C', 'C', 'C', 'C'],\n",
    "    'Value': [10, 20, 30, 25, 35, 40, 45, 50, 55]\n",
    "})\n",
    "\n",
    "\n",
    "random_sample = data.sample(n=4)\n",
    "\n",
    "\n",
    "strat_sample, _ = train_test_split(data, stratify=data['Category'], test_size=0.5)\n",
    "\n",
    "print(\"Random Sample:\\n\", random_sample)\n",
    "print(\"\\nStratified Sample:\\n\", strat_sample)"
   ]
  },
  {
   "cell_type": "code",
   "execution_count": 7,
   "id": "7a1f8e3f-1eda-416b-922d-19474fdb0238",
   "metadata": {},
   "outputs": [
    {
     "name": "stdout",
     "output_type": "stream",
     "text": [
      "Requirement already satisfied: pandas in c:\\users\\mayan\\appdata\\local\\programs\\python\\python311\\lib\\site-packages (2.2.3)\n",
      "Requirement already satisfied: scikit-learn in c:\\users\\mayan\\appdata\\local\\programs\\python\\python311\\lib\\site-packages (1.6.1)\n",
      "Requirement already satisfied: numpy>=1.23.2 in c:\\users\\mayan\\appdata\\local\\programs\\python\\python311\\lib\\site-packages (from pandas) (2.0.2)\n",
      "Requirement already satisfied: python-dateutil>=2.8.2 in c:\\users\\mayan\\appdata\\local\\programs\\python\\python311\\lib\\site-packages (from pandas) (2.9.0.post0)\n",
      "Requirement already satisfied: pytz>=2020.1 in c:\\users\\mayan\\appdata\\local\\programs\\python\\python311\\lib\\site-packages (from pandas) (2025.2)\n",
      "Requirement already satisfied: tzdata>=2022.7 in c:\\users\\mayan\\appdata\\local\\programs\\python\\python311\\lib\\site-packages (from pandas) (2025.2)\n",
      "Requirement already satisfied: scipy>=1.6.0 in c:\\users\\mayan\\appdata\\local\\programs\\python\\python311\\lib\\site-packages (from scikit-learn) (1.15.2)\n",
      "Requirement already satisfied: joblib>=1.2.0 in c:\\users\\mayan\\appdata\\local\\programs\\python\\python311\\lib\\site-packages (from scikit-learn) (1.4.2)\n",
      "Requirement already satisfied: threadpoolctl>=3.1.0 in c:\\users\\mayan\\appdata\\local\\programs\\python\\python311\\lib\\site-packages (from scikit-learn) (3.6.0)\n",
      "Requirement already satisfied: six>=1.5 in c:\\users\\mayan\\appdata\\local\\programs\\python\\python311\\lib\\site-packages (from python-dateutil>=2.8.2->pandas) (1.17.0)\n",
      "Note: you may need to restart the kernel to use updated packages.\n"
     ]
    },
    {
     "name": "stderr",
     "output_type": "stream",
     "text": [
      "\n",
      "[notice] A new release of pip is available: 24.3.1 -> 25.1.1\n",
      "[notice] To update, run: python.exe -m pip install --upgrade pip\n"
     ]
    }
   ],
   "source": [
    "pip install pandas scikit-learn\n"
   ]
  },
  {
   "cell_type": "code",
   "execution_count": 2,
   "id": "20a9d125-a133-465f-9595-a047d93ef2d9",
   "metadata": {},
   "outputs": [
    {
     "name": "stdout",
     "output_type": "stream",
     "text": [
      "Range: 20\n"
     ]
    }
   ],
   "source": [
    "# 5. Write a Python function to calculate the range of a dataset.\n",
    "\n",
    "def calculate_range(data):\n",
    "    return max(data) - min(data)\n",
    "\n",
    "dataset = [5, 8, 12, 20, 25]\n",
    "print(\"Range:\", calculate_range(dataset))\n"
   ]
  },
  {
   "cell_type": "code",
   "execution_count": null,
   "id": "164467cd-ecba-43b7-af2f-8783ed53ec25",
   "metadata": {},
   "outputs": [],
   "source": []
  },
  {
   "cell_type": "code",
   "execution_count": 1,
   "id": "6406f5b8-6bea-4484-bb9e-f686c740ae7d",
   "metadata": {},
   "outputs": [
    {
     "name": "stdout",
     "output_type": "stream",
     "text": [
      "Requirement already satisfied: matplotlib in c:\\users\\mayan\\appdata\\local\\programs\\python\\python311\\lib\\site-packages (3.10.1)\n",
      "Requirement already satisfied: contourpy>=1.0.1 in c:\\users\\mayan\\appdata\\local\\programs\\python\\python311\\lib\\site-packages (from matplotlib) (1.3.2)\n",
      "Requirement already satisfied: cycler>=0.10 in c:\\users\\mayan\\appdata\\local\\programs\\python\\python311\\lib\\site-packages (from matplotlib) (0.12.1)\n",
      "Requirement already satisfied: fonttools>=4.22.0 in c:\\users\\mayan\\appdata\\local\\programs\\python\\python311\\lib\\site-packages (from matplotlib) (4.57.0)\n",
      "Requirement already satisfied: kiwisolver>=1.3.1 in c:\\users\\mayan\\appdata\\local\\programs\\python\\python311\\lib\\site-packages (from matplotlib) (1.4.8)\n",
      "Requirement already satisfied: numpy>=1.23 in c:\\users\\mayan\\appdata\\local\\programs\\python\\python311\\lib\\site-packages (from matplotlib) (2.0.2)\n",
      "Requirement already satisfied: packaging>=20.0 in c:\\users\\mayan\\appdata\\local\\programs\\python\\python311\\lib\\site-packages (from matplotlib) (24.2)\n",
      "Requirement already satisfied: pillow>=8 in c:\\users\\mayan\\appdata\\local\\programs\\python\\python311\\lib\\site-packages (from matplotlib) (11.2.1)\n",
      "Requirement already satisfied: pyparsing>=2.3.1 in c:\\users\\mayan\\appdata\\local\\programs\\python\\python311\\lib\\site-packages (from matplotlib) (3.2.3)\n",
      "Requirement already satisfied: python-dateutil>=2.7 in c:\\users\\mayan\\appdata\\local\\programs\\python\\python311\\lib\\site-packages (from matplotlib) (2.9.0.post0)\n",
      "Requirement already satisfied: six>=1.5 in c:\\users\\mayan\\appdata\\local\\programs\\python\\python311\\lib\\site-packages (from python-dateutil>=2.7->matplotlib) (1.17.0)\n"
     ]
    },
    {
     "name": "stderr",
     "output_type": "stream",
     "text": [
      "\n",
      "[notice] A new release of pip is available: 24.3.1 -> 25.1.1\n",
      "[notice] To update, run: python.exe -m pip install --upgrade pip\n"
     ]
    }
   ],
   "source": [
    "!pip install matplotlib"
   ]
  },
  {
   "cell_type": "code",
   "execution_count": 2,
   "id": "9e4c8cb3-d56c-4191-ac80-614a7919306b",
   "metadata": {},
   "outputs": [
    {
     "name": "stderr",
     "output_type": "stream",
     "text": [
      "Matplotlib is building the font cache; this may take a moment.\n"
     ]
    },
    {
     "data": {
      "image/png": "[encoded data removed]",
      "text/plain": [
       "<Figure size 640x480 with 1 Axes>"
      ]
     },
     "metadata": {},
     "output_type": "display_data"
    }
   ],
   "source": [
    "# 6. Create a dataset and plot its histogram to visualize skewness.\n",
    "\n",
    "import matplotlib.pyplot as plt\n",
    "\n",
    "data = [1, 2, 2, 3, 4, 4, 4, 5, 6, 8, 10, 15, 20]\n",
    "plt.hist(data, bins=8, color='skyblue', edgecolor='black')\n",
    "plt.title(\"Histogram for Skewness Visualization\")\n",
    "plt.xlabel(\"Values\")\n",
    "plt.ylabel(\"Frequency\")\n",
    "plt.show()\n"
   ]
  },
  {
   "cell_type": "code",
   "execution_count": 3,
   "id": "e9a88f7e-44d5-42b0-a3e1-e8347c3a51a7",
   "metadata": {},
   "outputs": [
    {
     "name": "stdout",
     "output_type": "stream",
     "text": [
      "Skewness: 1.4224377627393465\n",
      "Kurtosis: 1.7438878158077733\n"
     ]
    }
   ],
   "source": [
    "# 7. Calculate skewness and kurtosis of a dataset using Python libraries.\n",
    "\n",
    "from scipy.stats import skew, kurtosis\n",
    "\n",
    "data = [1, 2, 3, 4, 5, 6, 7, 8, 9, 10, 20]\n",
    "\n",
    "print(\"Skewness:\", skew(data))\n",
    "print(\"Kurtosis:\", kurtosis(data))\n"
   ]
  },
  {
   "cell_type": "code",
   "execution_count": 4,
   "id": "9153faf9-fec9-4f78-94ae-8d55ce021023",
   "metadata": {},
   "outputs": [
    {
     "data": {
      "image/png": "[encoded data removed]",
      "text/plain": [
       "<Figure size 1000x400 with 2 Axes>"
      ]
     },
     "metadata": {},
     "output_type": "display_data"
    }
   ],
   "source": [
    "# 8. Generate a dataset and demonstrate positive and negative skewness.\n",
    "\n",
    "import matplotlib.pyplot as plt\n",
    "\n",
    "positive_skew = [1, 2, 2, 3, 3, 4, 10]\n",
    "negative_skew = [10, 8, 7, 6, 6, 6, 5, 4, 3]\n",
    "\n",
    "plt.figure(figsize=(10, 4))\n",
    "\n",
    "plt.subplot(1, 2, 1)\n",
    "plt.hist(positive_skew, bins=5, color='orange')\n",
    "plt.title(\"Positive Skew\")\n",
    "\n",
    "plt.subplot(1, 2, 2)\n",
    "plt.hist(negative_skew, bins=5, color='green')\n",
    "plt.title(\"Negative Skew\")\n",
    "\n",
    "plt.tight_layout()\n",
    "plt.show()\n"
   ]
  },
  {
   "cell_type": "code",
   "execution_count": 5,
   "id": "d74f059f-4e59-41c1-99cc-97b9501095aa",
   "metadata": {},
   "outputs": [
    {
     "name": "stdout",
     "output_type": "stream",
     "text": [
      "Covariance Matrix:\n",
      " [[6.66666667 3.66666667]\n",
      " [3.66666667 2.91666667]]\n"
     ]
    }
   ],
   "source": [
    "# 9. Write a Python script to calculate covariance between two datasets.\n",
    "\n",
    "import numpy as np\n",
    "\n",
    "x = [2, 4, 6, 8]\n",
    "y = [1, 3, 2, 5]\n",
    "\n",
    "cov_matrix = np.cov(x, y)\n",
    "print(\"Covariance Matrix:\\n\", cov_matrix)\n"
   ]
  },
  {
   "cell_type": "code",
   "execution_count": 6,
   "id": "4114c360-d610-4fe4-85ba-586ba6ac1dbf",
   "metadata": {},
   "outputs": [
    {
     "name": "stdout",
     "output_type": "stream",
     "text": [
      "Correlation Coefficient:\n",
      " [[1.         0.99589321]\n",
      " [0.99589321 1.        ]]\n"
     ]
    }
   ],
   "source": [
    "# 10. Write a Python script to calculate the correlation coefficient between two datasets.\n",
    "\n",
    "import numpy as np\n",
    "\n",
    "x = [10, 20, 30, 40, 50]\n",
    "y = [15, 25, 35, 45, 60]\n",
    "\n",
    "correlation = np.corrcoef(x, y)\n",
    "print(\"Correlation Coefficient:\\n\", correlation)\n"
   ]
  },
  {
   "cell_type": "code",
   "execution_count": 7,
   "id": "4a527074-ca9b-4ebf-8fc1-3887e41b3dd4",
   "metadata": {},
   "outputs": [
    {
     "data": {
      "image/png": "[encoded data removed]",
      "text/plain": [
       "<Figure size 640x480 with 1 Axes>"
      ]
     },
     "metadata": {},
     "output_type": "display_data"
    }
   ],
   "source": [
    "# 11. Create a scatter plot to visualize the relationship between two variables.\n",
    "\n",
    "import matplotlib.pyplot as plt\n",
    "\n",
    "x = [1, 2, 3, 4, 5]\n",
    "y = [2, 4, 5, 4, 5]\n",
    "\n",
    "plt.scatter(x, y, color='red')\n",
    "plt.title(\"Scatter Plot\")\n",
    "plt.xlabel(\"X Values\")\n",
    "plt.ylabel(\"Y Values\")\n",
    "plt.grid(True)\n",
    "plt.show()\n"
   ]
  },
  {
   "cell_type": "code",
   "execution_count": 13,
   "id": "c27ec364-485f-46c5-a3c7-b8cc9bd2ac83",
   "metadata": {},
   "outputs": [
    {
     "name": "stdout",
     "output_type": "stream",
     "text": [
      "Random Sample: [ 43   3  24  49  95  70  87  48  52 100]\n",
      "Systematic Sample: [5, 15, 25, 35, 45, 55, 65, 75, 85, 95]\n"
     ]
    }
   ],
   "source": [
    "# 12. Implement and compare simple random sampling and systematic sampling.\n",
    "\n",
    "import numpy as np\n",
    "\n",
    "data = list(range(1, 101))\n",
    "\n",
    "\n",
    "random_sample = np.random.choice(data, 10, replace=False)\n",
    "\n",
    "k = 10  \n",
    "start = np.random.randint(0, k)\n",
    "systematic_sample = data[start::k][:10]\n",
    "\n",
    "print(\"Random Sample:\", random_sample)\n",
    "print(\"Systematic Sample:\", systematic_sample)\n"
   ]
  },
  {
   "cell_type": "code",
   "execution_count": 9,
   "id": "ecfe85a9-34c7-4104-8d21-1531deed1f8e",
   "metadata": {},
   "outputs": [
    {
     "name": "stdout",
     "output_type": "stream",
     "text": [
      "Grouped Mean: 20.714285714285715\n"
     ]
    }
   ],
   "source": [
    "# 13. Calculate the mean, median, and mode of grouped data.\n",
    "\n",
    "import pandas as pd\n",
    "\n",
    "data = {\n",
    "    'Class Interval': ['0-10', '10-20', '20-30', '30-40'],\n",
    "    'Frequency': [5, 10, 15, 5]\n",
    "}\n",
    "\n",
    "df = pd.DataFrame(data)\n",
    "df['Midpoint'] = [5, 15, 25, 35]\n",
    "df['f*x'] = df['Midpoint'] * df['Frequency']\n",
    "\n",
    "mean = df['f*x'].sum() / df['Frequency'].sum()\n",
    "print(\"Grouped Mean:\", mean)\n"
   ]
  },
  {
   "cell_type": "code",
   "execution_count": 14,
   "id": "eaa5d607-50fd-4feb-b67e-fe67dde56b04",
   "metadata": {},
   "outputs": [
    {
     "name": "stdout",
     "output_type": "stream",
     "text": [
      "Mean: 49.58686373220912\n",
      "Median: 48.795379778797376\n",
      "Mode: 48.0\n",
      "Standard Deviation: 10.385253601176169\n",
      "Variance: 107.8534923607426\n"
     ]
    }
   ],
   "source": [
    "# 14. Simulate data using Python and calculate its central tendency and dispersion.\n",
    "\n",
    "import numpy as np\n",
    "import statistics\n",
    "\n",
    "data = np.random.normal(loc=50, scale=10, size=100)\n",
    "\n",
    "mean = statistics.mean(data)\n",
    "median = statistics.median(data)\n",
    "mode = statistics.mode(data.round())  \n",
    "std_dev = statistics.stdev(data)\n",
    "variance = statistics.variance(data)\n",
    "\n",
    "print(\"Mean:\", mean)\n",
    "print(\"Median:\", median)\n",
    "print(\"Mode:\", mode)\n",
    "print(\"Standard Deviation:\", std_dev)\n",
    "print(\"Variance:\", variance)\n"
   ]
  },
  {
   "cell_type": "code",
   "execution_count": 15,
   "id": "cd4c56cd-0dbf-4376-bc13-d9f2cfa48656",
   "metadata": {},
   "outputs": [
    {
     "name": "stdout",
     "output_type": "stream",
     "text": [
      "Requirement already satisfied: numpy in c:\\users\\mayan\\appdata\\local\\programs\\python\\python311\\lib\\site-packages (2.0.2)\n",
      "Requirement already satisfied: pandas in c:\\users\\mayan\\appdata\\local\\programs\\python\\python311\\lib\\site-packages (2.2.3)\n",
      "Requirement already satisfied: matplotlib in c:\\users\\mayan\\appdata\\local\\programs\\python\\python311\\lib\\site-packages (3.10.1)\n",
      "Collecting seaborn\n",
      "  Downloading seaborn-0.13.2-py3-none-any.whl.metadata (5.4 kB)\n",
      "Requirement already satisfied: scipy in c:\\users\\mayan\\appdata\\local\\programs\\python\\python311\\lib\\site-packages (1.15.2)\n",
      "Requirement already satisfied: python-dateutil>=2.8.2 in c:\\users\\mayan\\appdata\\local\\programs\\python\\python311\\lib\\site-packages (from pandas) (2.9.0.post0)\n",
      "Requirement already satisfied: pytz>=2020.1 in c:\\users\\mayan\\appdata\\local\\programs\\python\\python311\\lib\\site-packages (from pandas) (2025.2)\n",
      "Requirement already satisfied: tzdata>=2022.7 in c:\\users\\mayan\\appdata\\local\\programs\\python\\python311\\lib\\site-packages (from pandas) (2025.2)\n",
      "Requirement already satisfied: contourpy>=1.0.1 in c:\\users\\mayan\\appdata\\local\\programs\\python\\python311\\lib\\site-packages (from matplotlib) (1.3.2)\n",
      "Requirement already satisfied: cycler>=0.10 in c:\\users\\mayan\\appdata\\local\\programs\\python\\python311\\lib\\site-packages (from matplotlib) (0.12.1)\n",
      "Requirement already satisfied: fonttools>=4.22.0 in c:\\users\\mayan\\appdata\\local\\programs\\python\\python311\\lib\\site-packages (from matplotlib) (4.57.0)\n",
      "Requirement already satisfied: kiwisolver>=1.3.1 in c:\\users\\mayan\\appdata\\local\\programs\\python\\python311\\lib\\site-packages (from matplotlib) (1.4.8)\n",
      "Requirement already satisfied: packaging>=20.0 in c:\\users\\mayan\\appdata\\local\\programs\\python\\python311\\lib\\site-packages (from matplotlib) (24.2)\n",
      "Requirement already satisfied: pillow>=8 in c:\\users\\mayan\\appdata\\local\\programs\\python\\python311\\lib\\site-packages (from matplotlib) (11.2.1)\n",
      "Requirement already satisfied: pyparsing>=2.3.1 in c:\\users\\mayan\\appdata\\local\\programs\\python\\python311\\lib\\site-packages (from matplotlib) (3.2.3)\n",
      "Requirement already satisfied: six>=1.5 in c:\\users\\mayan\\appdata\\local\\programs\\python\\python311\\lib\\site-packages (from python-dateutil>=2.8.2->pandas) (1.17.0)\n",
      "Downloading seaborn-0.13.2-py3-none-any.whl (294 kB)\n",
      "Installing collected packages: seaborn\n",
      "Successfully installed seaborn-0.13.2\n"
     ]
    },
    {
     "name": "stderr",
     "output_type": "stream",
     "text": [
      "\n",
      "[notice] A new release of pip is available: 24.3.1 -> 25.1.1\n",
      "[notice] To update, run: python.exe -m pip install --upgrade pip\n"
     ]
    }
   ],
   "source": [
    "!pip install numpy pandas matplotlib seaborn scipy\n"
   ]
  },
  {
   "cell_type": "code",
   "execution_count": 16,
   "id": "b1e69d97-1f94-491a-bf42-b00ff9423e20",
   "metadata": {},
   "outputs": [
    {
     "name": "stdout",
     "output_type": "stream",
     "text": [
      "count     6.000000\n",
      "mean     35.000000\n",
      "std      18.708287\n",
      "min      10.000000\n",
      "25%      22.500000\n",
      "50%      35.000000\n",
      "75%      47.500000\n",
      "max      60.000000\n",
      "dtype: float64\n"
     ]
    }
   ],
   "source": [
    "# 15. Use NumPy or pandas to summarize a dataset’s descriptive statistics.\n",
    "\n",
    "import pandas as pd\n",
    "\n",
    "data = pd.Series([10, 20, 30, 40, 50, 60])\n",
    "print(data.describe())\n"
   ]
  },
  {
   "cell_type": "code",
   "execution_count": 17,
   "id": "7d5547d1-fd1b-4b52-a085-5ced8d64f55c",
   "metadata": {},
   "outputs": [
    {
     "data": {
      "image/png": "[encoded data removed]",
      "text/plain": [
       "<Figure size 640x480 with 1 Axes>"
      ]
     },
     "metadata": {},
     "output_type": "display_data"
    }
   ],
   "source": [
    "# 16. Plot a boxplot to understand the spread and identify outliers.\n",
    "\n",
    "import matplotlib.pyplot as plt\n",
    "\n",
    "data = [5, 7, 8, 12, 13, 14, 15, 16, 50]\n",
    "plt.boxplot(data)\n",
    "plt.title('Boxplot')\n",
    "plt.show()\n"
   ]
  },
  {
   "cell_type": "code",
   "execution_count": 18,
   "id": "d31c4bc3-a009-474c-b8d2-235814640544",
   "metadata": {},
   "outputs": [
    {
     "name": "stdout",
     "output_type": "stream",
     "text": [
      "IQR: 6.0\n"
     ]
    }
   ],
   "source": [
    "# 17. Calculate the interquartile range (IQR) of a dataset.\n",
    "\n",
    "import numpy as np\n",
    "\n",
    "data = np.array([7, 15, 36, 39, 40, 41, 42, 43, 47, 49])\n",
    "Q1 = np.percentile(data, 25)\n",
    "Q3 = np.percentile(data, 75)\n",
    "IQR = Q3 - Q1\n",
    "print(\"IQR:\", IQR)\n"
   ]
  },
  {
   "cell_type": "code",
   "execution_count": 19,
   "id": "87e817b2-3b58-4d02-89b2-8543532c947d",
   "metadata": {},
   "outputs": [
    {
     "name": "stdout",
     "output_type": "stream",
     "text": [
      "Z-score Normalized Data: [-1.41421356 -0.70710678  0.          0.70710678  1.41421356]\n"
     ]
    }
   ],
   "source": [
    "# 18. Implement Z-score normalization and explain its significance.\n",
    "\n",
    "from scipy.stats import zscore\n",
    "\n",
    "data = [10, 20, 30, 40, 50]\n",
    "normalized_data = zscore(data)\n",
    "print(\"Z-score Normalized Data:\", normalized_data)\n"
   ]
  },
  {
   "cell_type": "code",
   "execution_count": 20,
   "id": "68adacc6-0872-44f8-a2c3-d659a3642c18",
   "metadata": {},
   "outputs": [
    {
     "name": "stdout",
     "output_type": "stream",
     "text": [
      "Standard Deviation of Dataset 1: 14.142135623730951\n",
      "Standard Deviation of Dataset 2: 28.284271247461902\n"
     ]
    }
   ],
   "source": [
    "# 19. Compare two datasets using their standard deviations.\n",
    "\n",
    "data1 = [10, 20, 30, 40, 50]\n",
    "data2 = [5, 25, 45, 65, 85]\n",
    "\n",
    "std1 = np.std(data1)\n",
    "std2 = np.std(data2)\n",
    "\n",
    "print(\"Standard Deviation of Dataset 1:\", std1)\n",
    "print(\"Standard Deviation of Dataset 2:\", std2)\n"
   ]
  },
  {
   "cell_type": "code",
   "execution_count": 21,
   "id": "9591ba48-e8d8-4438-8d5c-69fb60f3c4ed",
   "metadata": {},
   "outputs": [
    {
     "data": {
      "image/png": "[encoded data removed]",
      "text/plain": [
       "<Figure size 640x480 with 2 Axes>"
      ]
     },
     "metadata": {},
     "output_type": "display_data"
    }
   ],
   "source": [
    "# 20. Write a Python program to visualize covariance using a heatmap.\n",
    "\n",
    "import seaborn as sns\n",
    "import pandas as pd\n",
    "\n",
    "df = pd.DataFrame({\n",
    "    'A': [1, 2, 3, 4, 5],\n",
    "    'B': [5, 4, 3, 2, 1]\n",
    "})\n",
    "\n",
    "cov_matrix = df.cov()\n",
    "sns.heatmap(cov_matrix, annot=True, cmap='coolwarm')\n",
    "plt.title('Covariance Heatmap')\n",
    "plt.show()\n"
   ]
  },
  {
   "cell_type": "code",
   "execution_count": 22,
   "id": "34ce0725-218a-43bf-b94e-3b34e9493e6a",
   "metadata": {},
   "outputs": [
    {
     "data": {
      "image/png": "[encoded data removed]",
      "text/plain": [
       "<Figure size 640x480 with 2 Axes>"
      ]
     },
     "metadata": {},
     "output_type": "display_data"
    }
   ],
   "source": [
    "# 21. Use seaborn to create a correlation matrix for a dataset.\n",
    "\n",
    "corr_matrix = df.corr()\n",
    "sns.heatmap(corr_matrix, annot=True, cmap='Blues')\n",
    "plt.title('Correlation Matrix')\n",
    "plt.show()\n"
   ]
  },
  {
   "cell_type": "code",
   "execution_count": 23,
   "id": "8c37da3c-4804-4ca7-8a24-feb6dedd6d97",
   "metadata": {},
   "outputs": [
    {
     "name": "stdout",
     "output_type": "stream",
     "text": [
      "Skewness: 1.958961288307831\n",
      "Kurtosis: 2.9179623308313616\n"
     ]
    },
    {
     "data": {
      "image/png": "[encoded data removed]",
      "text/plain": [
       "<Figure size 640x480 with 1 Axes>"
      ]
     },
     "metadata": {},
     "output_type": "display_data"
    }
   ],
   "source": [
    "# 23. Visualize skewness and kurtosis using Python libraries like matplotlib or seaborn.\n",
    "\n",
    "from scipy.stats import skew, kurtosis\n",
    "\n",
    "data = [1, 2, 2, 3, 4, 4, 4, 5, 6, 10, 20]\n",
    "print(\"Skewness:\", skew(data))\n",
    "print(\"Kurtosis:\", kurtosis(data))\n",
    "\n",
    "sns.histplot(data, kde=True)\n",
    "plt.title('Skewness and Kurtosis Visualization')\n",
    "plt.show()\n"
   ]
  },
  {
   "cell_type": "code",
   "execution_count": 24,
   "id": "59bfb58a-a347-4e0d-8409-b339c0ceb6e7",
   "metadata": {},
   "outputs": [
    {
     "name": "stdout",
     "output_type": "stream",
     "text": [
      "Pearson Correlation: 0.9999999999999998\n",
      "Spearman Correlation: 0.9999999999999999\n"
     ]
    }
   ],
   "source": [
    "# 24. Implement the Pearson and Spearman correlation coefficients for a dataset.\n",
    "\n",
    "from scipy.stats import pearsonr, spearmanr\n",
    "\n",
    "x = [10, 20, 30, 40, 50]\n",
    "y = [15, 25, 35, 45, 55]\n",
    "\n",
    "pearson_corr, _ = pearsonr(x, y)\n",
    "spearman_corr, _ = spearmanr(x, y)\n",
    "\n",
    "print(\"Pearson Correlation:\", pearson_corr)\n",
    "print(\"Spearman Correlation:\", spearman_corr)\n"
   ]
  },
  {
   "cell_type": "code",
   "execution_count": null,
   "id": "6ee760b9-d70e-4375-b58c-526698012fd0",
   "metadata": {},
   "outputs": [],
   "source": []
  }
 ],
 "metadata": {
  "kernelspec": {
   "display_name": "Python 3 (ipykernel)",
   "language": "python",
   "name": "python3"
  },
  "language_info": {
   "codemirror_mode": {
    "name": "ipython",
    "version": 3
   },
   "file_extension": ".py",
   "mimetype": "text/x-python",
   "name": "python",
   "nbconvert_exporter": "python",
   "pygments_lexer": "ipython3",
   "version": "3.11.1"
  }
 },
 "nbformat": 4,
 "nbformat_minor": 5
}
