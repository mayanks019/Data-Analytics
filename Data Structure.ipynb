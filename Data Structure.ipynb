{
 "cells": [
  {
   "cell_type": "markdown",
   "id": "77d3e9b0-c2da-4aa2-bdf8-4bae98520763",
   "metadata": {},
   "source": [
    "## Data types and Structures questions"
   ]
  },
  {
   "cell_type": "markdown",
   "id": "fcc542b0-5624-4bc7-b0b4-beb90dd70aaa",
   "metadata": {},
   "source": [
    "1. What are data structures, and why are they important?\n",
    "   - Data structures are ways of organizing and storing data so that operations like access, modification, and deletion can be performed efficiently. They’re crucial because the right data structure makes code more efficient and easier to manage.\n",
    "  \n",
    "2. Explain the difference between mutable and immutable data types with examples?\n",
    "    - Mutable: Can be changed after creation. Example: list, dict, set\n",
    "    - Immutable: Cannot be changed after creation.\n",
    "        Example: int, str, tuple\n",
    "\n",
    "3.  What are the main differences between lists and tuples in Python?\n",
    "    -Feature\tList ([])\tTuple (())\n",
    "\n",
    "    Mutable\t      Yes\t        No\n",
    "\n",
    "    Use Case\tChanging data\tFixed data\n",
    "\n",
    "    Performance\tSlightly slower\tSlightly faster\n",
    "\n",
    "4. Describe how dictionaries store data?\n",
    "    -Dictionaries store data as key-value pairs using a hash table under the hood. Each key is hashed to a location in memory.\n",
    "\n",
    "5. Why might you use a set instead of a list in Python?\n",
    "    -Sets are unordered and do not allow duplicates.\n",
    "\n",
    "    Faster membership tests: x in set is faster than x in list. \n",
    "\n",
    "6.  What is a string in Python, and how is it different from a list?\n",
    "    -A string is a sequence of characters (immutable), while a list can hold items of any type and is mutable.\n",
    "\n",
    "    \n",
    "8. How do tuples ensure data integrity in Python?\n",
    "    -Because tuples are immutable, once created, their values cannot change. This makes them suitable for read-only or constant data. \n",
    "  \n",
    "9. What is a hash table, and how does it relate to dictionaries in Python?\n",
    "    -A hash table stores data based on computed hash values. Python's dictionary is built on a hash table for fast lookups.\n",
    "\n",
    "10. Can lists contain different data types in Python?\n",
    "    -Yes. Lists can hold mixed data types:\n",
    "\n",
    "11. Explain why strings are immutable in Python\n",
    "    -For performance and security. Since strings are used often (like in keys or during iterations), immutability ensures hash consistency and thread safety.\n",
    "\n",
    "    \n",
    "12. What advantages do dictionaries offer over lists for certain tasks\n",
    "    -Faster lookup using keys.\n",
    "\n",
    "    More structured storage using key-value pairs.\n",
    "\n",
    "    \n",
    "13. Describe a scenario where using a tuple would be preferable over a list\n",
    "    -Use a tuple when:\n",
    "\n",
    "    You don't want the data to be changed.\n",
    "\n",
    "    The tuple represents a fixed structure (e.g., coordinates, RGB values).\n",
    "\n",
    "\n",
    "14. How do sets handle duplicate values in Python\n",
    "    -Sets automatically remove duplicates:\n",
    "    \n",
    "15. How does the “in” keyword work differently for lists and dictionaries\n",
    "    -List: Checks values.\n",
    "\n",
    "    Dict: Checks keys.\n",
    "\n",
    "16. Can you modify the elements of a tuple? Explain why or why not\n",
    "    - No. Tuples are immutable, so you can't change, add, or remove elements once created.\n",
    "\n",
    "\n",
    "17. What is a nested dictionary, and give an example of its use case?\n",
    "    -A dictionary within another dictionary.\n",
    "\n",
    "    \n",
    "18. Describe the time complexity of accessing elements in a dictionary\n",
    "    -Accessing elements is O(1) on average, thanks to hash tables.\n",
    "\n",
    "\n",
    "19. In what situations are lists preferred over dictionaries\n",
    "    -When you only need to store ordered data.\n",
    "\n",
    "    When no key-based access is needed.\n",
    "\n",
    "\n",
    "20. Why are dictionaries considered unordered, and how does that affect data retrieval\n",
    "    -Before Python 3.7, dictionaries didn’t preserve insertion order. Even now, logical ordering is not guaranteed for retrieval like a list.\n",
    "    \n",
    "21. Explain the difference between a list and a dictionary in terms of data retrie\n",
    "    -List: Retrieve by index → my_list[0]\n",
    "\n",
    "    Dict: Retrieve by key → my_dict[\"name\"]"
   ]
  },
  {
   "cell_type": "markdown",
   "id": "7daec19d-2767-49c1-a9ed-c350a7e4f154",
   "metadata": {},
   "source": [
    "## Practical Questions"
   ]
  },
  {
   "cell_type": "code",
   "execution_count": 1,
   "id": "c7d56fa5-7205-4a09-b60f-f51c5c437230",
   "metadata": {},
   "outputs": [
    {
     "name": "stdout",
     "output_type": "stream",
     "text": [
      "Mayank\n",
      "11\n",
      "Pyt\n",
      "HELLO\n",
      "I like orange\n"
     ]
    }
   ],
   "source": [
    "## String Operations\n",
    "\n",
    "# 1. Create a string with your name and print it\n",
    "name = \"Mayank\"\n",
    "print(name)\n",
    "\n",
    "# 2. Find length of \"Hello World\"\n",
    "print(len(\"Hello World\"))\n",
    "\n",
    "# 3. Slice first 3 characters of \"Python Programming\"\n",
    "s = \"Python Programming\"\n",
    "print(s[:3])\n",
    "\n",
    "# 4. Convert \"hello\" to uppercase\n",
    "print(\"hello\".upper())\n",
    "\n",
    "# 5. Replace \"apple\" with \"orange\" in a string\n",
    "text = \"I like apple\"\n",
    "print(text.replace(\"apple\", \"orange\"))\n"
   ]
  },
  {
   "cell_type": "code",
   "execution_count": 2,
   "id": "781573ed-91d5-481c-873d-ad2c5ca1a7d6",
   "metadata": {},
   "outputs": [
    {
     "name": "stdout",
     "output_type": "stream",
     "text": [
      "[1, 2, 3, 4, 5]\n",
      "[1, 2, 3, 4, 10]\n",
      "[1, 2, 4, 5]\n",
      "b\n",
      "[50, 40, 30, 20, 10]\n"
     ]
    }
   ],
   "source": [
    "#List Operations\n",
    "\n",
    "# 6. Create a list with numbers 1 to 5 and print\n",
    "lst = [1, 2, 3, 4, 5]\n",
    "print(lst)\n",
    "\n",
    "# 7. Append 10 to list\n",
    "lst2 = [1, 2, 3, 4]\n",
    "lst2.append(10)\n",
    "print(lst2)\n",
    "\n",
    "# 8. Remove number 3 from list\n",
    "lst3 = [1, 2, 3, 4, 5]\n",
    "lst3.remove(3)\n",
    "print(lst3)\n",
    "\n",
    "# 9. Access second element in list\n",
    "letters = ['a', 'b', 'c', 'd']\n",
    "print(letters[1])\n",
    "\n",
    "# 10. Reverse list\n",
    "nums = [10, 20, 30, 40, 50]\n",
    "nums.reverse()\n",
    "print(nums)\n",
    "\n"
   ]
  },
  {
   "cell_type": "code",
   "execution_count": 3,
   "id": "124cd4bd-b25e-4799-bab2-7da2c68871d0",
   "metadata": {},
   "outputs": [
    {
     "name": "stdout",
     "output_type": "stream",
     "text": [
      "(100, 200, 300)\n",
      "blue\n",
      "5\n",
      "1\n",
      "False\n"
     ]
    }
   ],
   "source": [
    "# Tuple operations\n",
    "\n",
    "# 11. Create and print tuple\n",
    "t = (100, 200, 300)\n",
    "print(t)\n",
    "\n",
    "# 12. Access second-to-last element\n",
    "colors = ('red', 'green', 'blue', 'yellow')\n",
    "print(colors[-2])\n",
    "\n",
    "# 13. Find min in tuple\n",
    "nums_tuple = (10, 20, 5, 15)\n",
    "print(min(nums_tuple))\n",
    "\n",
    "# 14. Find index of \"cat\"\n",
    "animals = ('dog', 'cat', 'rabbit')\n",
    "print(animals.index(\"cat\"))\n",
    "\n",
    "# 15. Check if \"kiwi\" in tuple\n",
    "fruits = (\"apple\", \"banana\", \"mango\")\n",
    "print(\"kiwi\" in fruits)\n"
   ]
  },
  {
   "cell_type": "code",
   "execution_count": 4,
   "id": "8805bd10-e15e-490b-ac1a-1f1ff74aa735",
   "metadata": {},
   "outputs": [
    {
     "name": "stdout",
     "output_type": "stream",
     "text": [
      "{'c', 'a', 'b'}\n",
      "set()\n",
      "{1, 2, 3}\n",
      "{1, 2, 3, 4, 5}\n",
      "{3}\n"
     ]
    }
   ],
   "source": [
    "#Set operations\n",
    "\n",
    "# 16. Create set and print\n",
    "s = {'a', 'b', 'c'}\n",
    "print(s)\n",
    "\n",
    "# 17. Clear all elements\n",
    "s2 = {1, 2, 3, 4, 5}\n",
    "s2.clear()\n",
    "print(s2)\n",
    "\n",
    "# 18. Remove 4 from set\n",
    "s3 = {1, 2, 3, 4}\n",
    "s3.remove(4)\n",
    "print(s3)\n",
    "\n",
    "# 19. Union of sets\n",
    "a = {1, 2, 3}\n",
    "b = {3, 4, 5}\n",
    "print(a.union(b))\n",
    "\n",
    "# 20. Intersection of sets\n",
    "print(a.intersection(b))\n"
   ]
  },
  {
   "cell_type": "code",
   "execution_count": 5,
   "id": "0f100da2-a231-43a0-ab09-bbf4a4263534",
   "metadata": {},
   "outputs": [
    {
     "name": "stdout",
     "output_type": "stream",
     "text": [
      "{'name': 'John', 'age': 25, 'city': 'New York'}\n",
      "{'name': 'John', 'age': 25, 'city': 'New York', 'country': 'USA'}\n",
      "Alice\n",
      "{'name': 'Bob', 'city': 'New York'}\n",
      "True\n"
     ]
    }
   ],
   "source": [
    "# Dictionary operations\n",
    "\n",
    "# 21. Create dictionary and print\n",
    "info = {\"name\": \"John\", \"age\": 25, \"city\": \"New York\"}\n",
    "print(info)\n",
    "\n",
    "# 22. Add \"country\": \"USA\"\n",
    "info[\"country\"] = \"USA\"\n",
    "print(info)\n",
    "\n",
    "# 23. Access value by key \"name\"\n",
    "d = {\"name\": \"Alice\", \"age\": 30}\n",
    "print(d[\"name\"])\n",
    "\n",
    "# 24. Remove \"age\"\n",
    "d2 = {\"name\": \"Bob\", \"age\": 22, \"city\": \"New York\"}\n",
    "del d2[\"age\"]\n",
    "print(d2)\n",
    "\n",
    "# 25. Check if \"city\" exists\n",
    "d3 = {\"name\": \"Alice\", \"city\": \"Paris\"}\n",
    "print(\"city\" in d3)\n"
   ]
  },
  {
   "cell_type": "code",
   "execution_count": 6,
   "id": "c0bbb102-c321-48ca-acbb-86ebf2d0f50f",
   "metadata": {},
   "outputs": [
    {
     "name": "stdout",
     "output_type": "stream",
     "text": [
      "[1, 2, 3] ('a', 'b', 'c') {'x': 1, 'y': 2}\n",
      "[20, 44, 66, 82, 99]\n",
      "four\n",
      "{'a': 1, 'b': 2, 'c': 3, 'd': 4}\n",
      "{'banana', 'apple', 'cherry'}\n"
     ]
    }
   ],
   "source": [
    "#Mixed operations\n",
    "\n",
    "# 26. Create and print list, tuple, dictionary\n",
    "l = [1, 2, 3]\n",
    "t = (\"a\", \"b\", \"c\")\n",
    "d = {\"x\": 1, \"y\": 2}\n",
    "print(l, t, d)\n",
    "\n",
    "# 27. List of 5 random numbers between 1 and 100, sorted\n",
    "import random\n",
    "rand_list = random.sample(range(1, 101), 5)\n",
    "rand_list.sort()\n",
    "print(rand_list)\n",
    "\n",
    "# 28. List with strings, print element at third index\n",
    "str_list = [\"one\", \"two\", \"three\", \"four\", \"five\"]\n",
    "print(str_list[3])\n",
    "\n",
    "# 29. Combine two dictionaries\n",
    "dict1 = {\"a\": 1, \"b\": 2}\n",
    "dict2 = {\"c\": 3, \"d\": 4}\n",
    "combined = {**dict1, **dict2}\n",
    "print(combined)\n",
    "\n",
    "# 30. Convert list of strings to set\n",
    "words = [\"apple\", \"banana\", \"cherry\"]\n",
    "print(set(words))\n"
   ]
  },
  {
   "cell_type": "code",
   "execution_count": null,
   "id": "c7b1baf2-91de-4cf7-b1bf-e868ec5682a2",
   "metadata": {},
   "outputs": [],
   "source": []
  }
 ],
 "metadata": {
  "kernelspec": {
   "display_name": "Python 3 (ipykernel)",
   "language": "python",
   "name": "python3"
  },
  "language_info": {
   "codemirror_mode": {
    "name": "ipython",
    "version": 3
   },
   "file_extension": ".py",
   "mimetype": "text/x-python",
   "name": "python",
   "nbconvert_exporter": "python",
   "pygments_lexer": "ipython3",
   "version": "3.11.1"
  }
 },
 "nbformat": 4,
 "nbformat_minor": 5
}
